{
 "cells": [
  {
   "cell_type": "markdown",
   "id": "1b87fcd5",
   "metadata": {},
   "source": [
    "## Neural Network for Number Detection"
   ]
  },
  {
   "cell_type": "markdown",
   "id": "8ce92fc5",
   "metadata": {},
   "source": [
    "### Downloading Dependencies"
   ]
  },
  {
   "cell_type": "code",
   "execution_count": 1,
   "id": "706be826",
   "metadata": {},
   "outputs": [],
   "source": [
    "import numpy as np\n",
    "import matplotlib.pyplot as plt\n",
    "import torch\n",
    "import torch.nn as nn\n",
    "import torch.optim as optim\n",
    "import torch.nn.functional as F\n",
    "import torchvision\n",
    "import torchvision.transforms as transforms\n",
    "from torchvision.datasets import MNIST\n",
    "from torch.utils.data import DataLoader, TensorDataset\n",
    "from sklearn.metrics import accuracy_score, confusion_matrix\n",
    "%matplotlib inline"
   ]
  },
  {
   "cell_type": "markdown",
   "id": "ce7285df",
   "metadata": {},
   "source": [
    "### For GPU Processing"
   ]
  },
  {
   "cell_type": "code",
   "execution_count": 2,
   "id": "eec5b9a6",
   "metadata": {},
   "outputs": [],
   "source": [
    "def get_default_device():\n",
    "    if torch.cuda.is_available():\n",
    "        return torch.device('cuda')\n",
    "    else:\n",
    "        return torch.device('cpu')\n",
    "    \n",
    "device = get_default_device()\n",
    "\n",
    "\n",
    "def to_device(data, device):\n",
    "    \"\"\"Move tensor to chosen device\"\"\"\n",
    "    if isinstance(data, (list,tuple)):\n",
    "        return [to_device(x, device) for x in data]    #list or tuple\n",
    "    return data.to(device, non_blocking=True)          #for tensors or models"
   ]
  },
  {
   "cell_type": "markdown",
   "id": "ff45f77a",
   "metadata": {},
   "source": [
    "### Make Datasets"
   ]
  },
  {
   "cell_type": "code",
   "execution_count": 3,
   "id": "480d4d65",
   "metadata": {},
   "outputs": [
    {
     "data": {
      "text/plain": [
       "10000"
      ]
     },
     "execution_count": 3,
     "metadata": {},
     "output_type": "execute_result"
    }
   ],
   "source": [
    "dataset = MNIST(root='data/', download=True, transform=transforms.ToTensor())  #MNIST class is used as a constructor\n",
    "\n",
    "test_dataset = MNIST(root='data/', train=False, transform=transforms.ToTensor())\n",
    "len(test_dataset)"
   ]
  },
  {
   "cell_type": "markdown",
   "id": "b9ae7518",
   "metadata": {},
   "source": [
    "### Preparing Dataloaders"
   ]
  },
  {
   "cell_type": "code",
   "execution_count": 4,
   "id": "bdd58235",
   "metadata": {},
   "outputs": [],
   "source": [
    "dataset = MNIST(root='data/', train=True, transform=transforms.ToTensor())\n",
    "\n",
    "from torch.utils.data import random_split\n",
    "\n",
    "batch_size = 128\n",
    "validation_size = 10000\n",
    "train_size = len(dataset) - validation_size\n",
    "train_ds, val_ds = random_split(dataset, [train_size, validation_size])  #randomly splits the dataset so that validation isn't just the last 10k images"
   ]
  },
  {
   "cell_type": "code",
   "execution_count": 5,
   "id": "8f7f1328",
   "metadata": {},
   "outputs": [],
   "source": [
    "class DeviceDataLoader():\n",
    "    #wrap a dataloader to move data to a device\n",
    "    def __init__(self, dl, device):\n",
    "        self.dl = dl\n",
    "        self.device = device\n",
    "        \n",
    "    def __iter__(self):\n",
    "        # yeilds the next batch of data after moving it to device\n",
    "        for b in self.dl:\n",
    "            yield to_device(b, self.device)   # yeild is used to create a generator function which can be iterated in a for loop\n",
    "\n",
    "    def __len__(self):\n",
    "        #number of batches\n",
    "        return len(self.dl)"
   ]
  },
  {
   "cell_type": "code",
   "execution_count": 6,
   "id": "6ec412b3",
   "metadata": {},
   "outputs": [],
   "source": [
    "train_loader = DeviceDataLoader(DataLoader(train_ds, batch_size=batch_size, shuffle=True, num_workers=4, pin_memory=True), device)\n",
    "val_loader = DeviceDataLoader(DataLoader(val_ds, batch_size=batch_size*2, num_workers=4, pin_memory=True), device)\n",
    "test_loader = DeviceDataLoader(DataLoader(test_dataset, batch_size=batch_size*2, num_workers=4, pin_memory=True), device)"
   ]
  },
  {
   "cell_type": "code",
   "execution_count": 7,
   "id": "5f814bc7",
   "metadata": {},
   "outputs": [],
   "source": [
    "input_size = 28 * 28\n",
    "num_classes = 10\n",
    "hidden_size1 = 128\n",
    "hidden_size2 = 16"
   ]
  },
  {
   "cell_type": "markdown",
   "id": "1a708236",
   "metadata": {},
   "source": [
    "### Defining Accuracy"
   ]
  },
  {
   "cell_type": "code",
   "execution_count": 8,
   "id": "c7eb513e",
   "metadata": {},
   "outputs": [],
   "source": [
    "def accuracy(outputs, labels):\n",
    "    _, preds = torch.max(outputs, dim=1)\n",
    "    return torch.tensor(torch.sum(preds == labels).item() / len(preds))"
   ]
  },
  {
   "cell_type": "markdown",
   "id": "dfe803b2",
   "metadata": {},
   "source": [
    "### Extending nn.module"
   ]
  },
  {
   "cell_type": "code",
   "execution_count": 9,
   "id": "4d943005",
   "metadata": {},
   "outputs": [],
   "source": [
    "class MNIST(nn.Module):\n",
    "    def __init__(self, in_size, hidden_size1, hidden_size2, num_classes):\n",
    "        super().__init__()\n",
    "        self.Sequential = nn.Sequential(\n",
    "            nn.Linear(input_size, hidden_size1),\n",
    "            nn.ReLU(),\n",
    "            nn.Linear(hidden_size1, hidden_size2),\n",
    "            nn.ReLU(),\n",
    "            nn.Linear(hidden_size2, num_classes),)\n",
    "\n",
    "    def forward(self, xb):\n",
    "        xb = xb.view(xb.size(0), -1)\n",
    "        outputs = self.Sequential(xb)\n",
    "        return outputs\n",
    "    \n",
    "    def training_step(self, batch):\n",
    "        images, labels = batch\n",
    "        outputs = self(images)                    # gen preds\n",
    "        loss = F.cross_entropy(outputs, labels)   # calc loss\n",
    "        return loss\n",
    "    \n",
    "    def validation_step(self, batch):\n",
    "        images, labels = batch\n",
    "        outputs = self(images)                      # gen preds\n",
    "        loss = F.cross_entropy(outputs, labels)     # calc loss\n",
    "        acc = accuracy(outputs, labels)             # calc acc\n",
    "        return {'val_loss': loss.detach(), 'val_acc': acc}\n",
    "    \n",
    "    def validation_epoch_end(self, outputs):\n",
    "        batch_losses = [x['val_loss'] for x in outputs]\n",
    "        epoch_loss = torch.stack(batch_losses).mean()             # combine losses\n",
    "        batch_accs = [x['val_acc'] for x in outputs]\n",
    "        epoch_acc = torch.stack(batch_accs).mean()                # combine accuracies\n",
    "        return {'val_loss': epoch_loss.item(), 'val_acc': epoch_acc.item()}\n",
    "    \n",
    "    def epoch_end(self, epoch, result):\n",
    "        print(\"Epoch [{}], val_loss: {:.4f}, val_acc: {:.4f}%\".format(epoch+1, result['val_loss'], result['val_acc']*100))\n"
   ]
  },
  {
   "cell_type": "markdown",
   "id": "082c43ad",
   "metadata": {},
   "source": [
    "Defining Model and Loading the Weights and Parameters of the model which we already trained (if not then run the training cell)"
   ]
  },
  {
   "cell_type": "code",
   "execution_count": 10,
   "id": "7d52e1ca",
   "metadata": {},
   "outputs": [
    {
     "data": {
      "text/plain": [
       "<All keys matched successfully>"
      ]
     },
     "execution_count": 10,
     "metadata": {},
     "output_type": "execute_result"
    }
   ],
   "source": [
    "model = MNIST(input_size, hidden_size1, hidden_size2, num_classes)\n",
    "to_device(model, device)\n",
    "model.load_state_dict(torch.load('mnist_weights.pth'))"
   ]
  },
  {
   "cell_type": "code",
   "execution_count": 11,
   "id": "51d3d21b",
   "metadata": {},
   "outputs": [],
   "source": [
    "#for images, labels in train_loader:\n",
    "    #outputs = model(images)\n",
    "    #break\n",
    "\n",
    "#print(outputs.shape)   #but the prob are neg and dont add upto 1\n",
    "#print(outputs[:2].data)"
   ]
  },
  {
   "cell_type": "markdown",
   "id": "f69112db",
   "metadata": {},
   "source": [
    "### Defining the evaluate and fit func"
   ]
  },
  {
   "cell_type": "code",
   "execution_count": 12,
   "id": "80f13442",
   "metadata": {},
   "outputs": [],
   "source": [
    "def evaluate(model, val_loader):\n",
    "    #Evaluates model on validation set\n",
    "    outputs = [model.validation_step(batch) for batch in val_loader]\n",
    "    return model.validation_epoch_end(outputs)\n",
    "\n",
    "\n",
    "\n",
    "def fit(epochs, lr, model, train_loader, val_loader, opt_fn = torch.optim.SGD):\n",
    "    #Trains model using gradient descent\n",
    "    optimizer = opt_fn(model.parameters(), lr)   # model.parameter contains all the weights and biases of the model and gets passed to optimizer\n",
    "    history = []\n",
    "\n",
    "    for epoch in range(epochs):\n",
    "        #train\n",
    "        for batch in train_loader:\n",
    "            loss = model.training_step(batch)\n",
    "            loss.backward()\n",
    "            optimizer.step()\n",
    "            optimizer.zero_grad()\n",
    "\n",
    "        #validate\n",
    "        result = evaluate(model, val_loader)\n",
    "        model.epoch_end(epoch, result)\n",
    "        history.append(result)\n",
    "    return history"
   ]
  },
  {
   "cell_type": "markdown",
   "id": "04d3bdeb",
   "metadata": {},
   "source": [
    "### Training"
   ]
  },
  {
   "cell_type": "code",
   "execution_count": 15,
   "id": "d5edf6fb",
   "metadata": {},
   "outputs": [
    {
     "name": "stdout",
     "output_type": "stream",
     "text": [
      "Initial result: loss = 0.0380, acc = 98.7988%\n",
      "Epoch [1], val_loss: 0.0349, val_acc: 98.9453%\n",
      "Epoch [2], val_loss: 0.0349, val_acc: 98.9453%\n",
      "Epoch [3], val_loss: 0.0348, val_acc: 98.9453%\n",
      "Epoch [4], val_loss: 0.0345, val_acc: 98.9551%\n",
      "Epoch [5], val_loss: 0.0349, val_acc: 98.9355%\n",
      "[{'val_loss': 0.034923505038022995, 'val_acc': 0.989453136920929}, {'val_loss': 0.0348522774875164, 'val_acc': 0.989453136920929}, {'val_loss': 0.0348169170320034, 'val_acc': 0.989453136920929}, {'val_loss': 0.034480612725019455, 'val_acc': 0.989550769329071}, {'val_loss': 0.03485342860221863, 'val_acc': 0.9893554449081421}]\n"
     ]
    }
   ],
   "source": [
    "result0 = evaluate(model, val_loader)       # gives initial loss and acc\n",
    "print(\"Initial result: loss = {:.4f}, acc = {:.4f}%\".format(result0['val_loss'], result0['val_acc']*100))   # print result0\n",
    "\n",
    "history = fit(5, 0.01, model, train_loader, val_loader)    # trains the model and returns history of loss and acc through epochs\n",
    "print(history)"
   ]
  },
  {
   "cell_type": "markdown",
   "id": "c1b4e545",
   "metadata": {},
   "source": [
    "### Testing"
   ]
  },
  {
   "cell_type": "code",
   "execution_count": null,
   "id": "b21d7daf",
   "metadata": {},
   "outputs": [
    {
     "name": "stdout",
     "output_type": "stream",
     "text": [
      "Predicted: 7Actual: 7\n"
     ]
    },
    {
     "data": {
      "image/png": "[encoded data removed]",
      "text/plain": [
       "<Figure size 640x480 with 1 Axes>"
      ]
     },
     "metadata": {},
     "output_type": "display_data"
    }
   ],
   "source": [
    "def predict_image(img, model):\n",
    "    xb = to_device(img.unsqueeze(0), device)     # img tensor get conv to a batch of image tensors (basically adds an extra dimension)\n",
    "    yb = model(xb)\n",
    "    _, preds = torch.max(yb, dim=1)\n",
    "    return preds[0].item()\n",
    "\n",
    "\n",
    "img, label = test_dataset[0]\n",
    "plt.imshow(img[0], cmap='gray')\n",
    "print('Predicted:', predict_image(img, model),end='  ')\n",
    "print('Actual:', label)"
   ]
  },
  {
   "cell_type": "code",
   "execution_count": 17,
   "id": "8ec11b63",
   "metadata": {},
   "outputs": [
    {
     "data": {
      "text/plain": [
       "{'val_loss': 0.06460074335336685, 'val_acc': 0.98046875}"
      ]
     },
     "execution_count": 17,
     "metadata": {},
     "output_type": "execute_result"
    }
   ],
   "source": [
    "test_loader = DeviceDataLoader(DataLoader(test_dataset, batch_size=batch_size*2, num_workers=4, pin_memory=True), device)\n",
    "result = evaluate(model, test_loader)\n",
    "result"
   ]
  },
  {
   "cell_type": "markdown",
   "id": "b5684587",
   "metadata": {},
   "source": [
    "### Save and Upload"
   ]
  },
  {
   "cell_type": "code",
   "execution_count": 18,
   "id": "e9f1e49c",
   "metadata": {},
   "outputs": [],
   "source": [
    "saved_weights_fname = 'mnist_weights.pth'\n",
    "torch.save(model.state_dict(), saved_weights_fname)    # state_dict() returns an ordered dict of all the weights and biases of the model"
   ]
  },
  {
   "cell_type": "code",
   "execution_count": null,
   "id": "0b57e243",
   "metadata": {},
   "outputs": [],
   "source": []
  }
 ],
 "metadata": {
  "kernelspec": {
   "display_name": "Python 3",
   "language": "python",
   "name": "python3"
  },
  "language_info": {
   "codemirror_mode": {
    "name": "ipython",
    "version": 3
   },
   "file_extension": ".py",
   "mimetype": "text/x-python",
   "name": "python",
   "nbconvert_exporter": "python",
   "pygments_lexer": "ipython3",
   "version": "3.13.3"
  }
 },
 "nbformat": 4,
 "nbformat_minor": 5
}
