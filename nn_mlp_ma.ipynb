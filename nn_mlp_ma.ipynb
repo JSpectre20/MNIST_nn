{
 "cells": [
  {
   "cell_type": "markdown",
   "id": "1b87fcd5",
   "metadata": {},
   "source": [
    "## Neural Network for Number Detection"
   ]
  },
  {
   "cell_type": "markdown",
   "id": "8ce92fc5",
   "metadata": {},
   "source": [
    "### Downloading Dependencies"
   ]
  },
  {
   "cell_type": "code",
   "execution_count": 115,
   "id": "706be826",
   "metadata": {},
   "outputs": [],
   "source": [
    "import numpy as np\n",
    "import matplotlib.pyplot as plt\n",
    "import torch\n",
    "import torch.nn as nn\n",
    "import torch.optim as optim\n",
    "import torch.nn.functional as F\n",
    "import torchvision\n",
    "import torchvision.transforms as transforms\n",
    "from torchvision.datasets import MNIST\n",
    "from torch.utils.data import DataLoader, TensorDataset\n",
    "from sklearn.metrics import accuracy_score, confusion_matrix\n",
    "%matplotlib inline"
   ]
  },
  {
   "cell_type": "markdown",
   "id": "ce7285df",
   "metadata": {},
   "source": [
    "### For GPU Processing"
   ]
  },
  {
   "cell_type": "code",
   "execution_count": 116,
   "id": "eec5b9a6",
   "metadata": {},
   "outputs": [],
   "source": [
    "def get_default_device():\n",
    "    if torch.cuda.is_available():\n",
    "        return torch.device('cuda')            #cuda is a parallel processing platform for gpus, if available utilize that for faster comp\n",
    "    else:\n",
    "        return torch.device('cpu')\n",
    "    \n",
    "device = get_default_device()\n",
    "\n",
    "\n",
    "def to_device(data, device):\n",
    "    # Move tensor to chosen device\n",
    "    if isinstance(data, (list,tuple)):\n",
    "        return [to_device(x, device) for x in data]    #list or tuple\n",
    "    return data.to(device, non_blocking=True)          #for tensors or models"
   ]
  },
  {
   "cell_type": "markdown",
   "id": "ff45f77a",
   "metadata": {},
   "source": [
    "### Download Datasets"
   ]
  },
  {
   "cell_type": "code",
   "execution_count": 117,
   "id": "480d4d65",
   "metadata": {},
   "outputs": [
    {
     "name": "stdout",
     "output_type": "stream",
     "text": [
      "60000\n",
      "10000\n"
     ]
    }
   ],
   "source": [
    "dataset = MNIST(root='data/', train=True, transform=transforms.ToTensor()) #MNIST class is used as a constructor and data is conv to tensor\n",
    "print(len(dataset))\n",
    "test_dataset = MNIST(root='data/', train=False, transform=transforms.ToTensor())\n",
    "print(len(test_dataset)) "
   ]
  },
  {
   "cell_type": "markdown",
   "id": "b9ae7518",
   "metadata": {},
   "source": [
    "### Preparing Dataloaders"
   ]
  },
  {
   "cell_type": "code",
   "execution_count": 118,
   "id": "bdd58235",
   "metadata": {},
   "outputs": [],
   "source": [
    "from torch.utils.data import random_split\n",
    "\n",
    "batch_size = 128\n",
    "validation_size = 10000\n",
    "train_size = len(dataset) - validation_size\n",
    "train_ds, val_ds = random_split(dataset, [train_size, validation_size])  #randomly splits the dataset so that validation isn't just the last 10k images"
   ]
  },
  {
   "cell_type": "code",
   "execution_count": 119,
   "id": "8f7f1328",
   "metadata": {},
   "outputs": [],
   "source": [
    "class DeviceDataLoader():\n",
    "    #wrap a dataloader to move data to a device\n",
    "    def __init__(self, dl, device):\n",
    "        self.dl = dl\n",
    "        self.device = device\n",
    "        \n",
    "    def __iter__(self):\n",
    "        # yeilds the next batch of data after moving it to device\n",
    "        for b in self.dl:\n",
    "            yield to_device(b, self.device)   # yeild is used to create a generator function which can be iterated in a for loop\n",
    "\n",
    "    def __len__(self):\n",
    "        #number of batches\n",
    "        return len(self.dl)"
   ]
  },
  {
   "cell_type": "code",
   "execution_count": 120,
   "id": "6ec412b3",
   "metadata": {},
   "outputs": [],
   "source": [
    "train_loader = DeviceDataLoader(DataLoader(train_ds, batch_size=batch_size, shuffle=True, num_workers=4, pin_memory=True), device)\n",
    "val_loader = DeviceDataLoader(DataLoader(val_ds, batch_size=batch_size*2, num_workers=4, pin_memory=True), device)\n",
    "test_loader = DeviceDataLoader(DataLoader(test_dataset, batch_size=batch_size*2, num_workers=4, pin_memory=True), device)"
   ]
  },
  {
   "cell_type": "code",
   "execution_count": 121,
   "id": "5f814bc7",
   "metadata": {},
   "outputs": [],
   "source": [
    "input_size = 28 * 28\n",
    "hidden_size1 = 128\n",
    "hidden_size2 = 16\n",
    "num_classes = 10"
   ]
  },
  {
   "cell_type": "markdown",
   "id": "1a708236",
   "metadata": {},
   "source": [
    "### Defining Accuracy"
   ]
  },
  {
   "cell_type": "code",
   "execution_count": 122,
   "id": "c7eb513e",
   "metadata": {},
   "outputs": [],
   "source": [
    "def accuracy(outputs, labels):\n",
    "    _, preds = torch.max(outputs, dim=1)                                   # returns max value and index\n",
    "    return torch.tensor(torch.sum(preds == labels).item() / len(preds))    # if preds = labels returns 1 nai to 0, then takes mean"
   ]
  },
  {
   "cell_type": "markdown",
   "id": "dfe803b2",
   "metadata": {},
   "source": [
    "### Extending nn.module"
   ]
  },
  {
   "cell_type": "code",
   "execution_count": 123,
   "id": "4d943005",
   "metadata": {},
   "outputs": [],
   "source": [
    "class MNIST(nn.Module):\n",
    "    def __init__(self, in_size, hidden_size1, hidden_size2, num_classes):\n",
    "        super().__init__()\n",
    "        self.Sequential = nn.Sequential(\n",
    "            nn.Linear(input_size, hidden_size1),\n",
    "            nn.ReLU(),\n",
    "            nn.Linear(hidden_size1, hidden_size2),              # we have two hidden layers and two non-linear activation functions b/w them\n",
    "            nn.ReLU(),                                          # non-linearity helps in learning complex patterns\n",
    "            nn.Linear(hidden_size2, num_classes),)\n",
    "\n",
    "    def forward(self, xb):\n",
    "        xb = xb.view(xb.size(0), -1)         # flatten inputs from 3d (greyscale and 28x28) to 1d as wohi model mai input jaata hai.\n",
    "        outputs = self.Sequential(xb)        # xb.size(0) is the batch size and -1 is used get other dim and make it generalized\n",
    "        return outputs                       \n",
    "    \n",
    "    def training_step(self, batch):\n",
    "        images, labels = batch\n",
    "        outputs = self(images)                    # gen preds\n",
    "        loss = F.cross_entropy(outputs, labels)   # calc loss by converting preds into softmax prob and takeing neg log \n",
    "        return loss                               # its is used as it focuses on maximizing the prob of the correct class\n",
    "    \n",
    "    def validation_step(self, batch):\n",
    "        images, labels = batch\n",
    "        outputs = self(images)                                 # gen preds\n",
    "        loss = F.cross_entropy(outputs, labels)                # calc loss\n",
    "        acc = accuracy(outputs, labels)                        # calc acc\n",
    "        return {'val_loss': loss.detach(), 'val_acc': acc}\n",
    "    \n",
    "    def validation_epoch_end(self, outputs):\n",
    "        batch_losses = [x['val_loss'] for x in outputs]           # extracts all the validation losses\n",
    "        epoch_loss = torch.stack(batch_losses).mean()             # combines all those scalars into a single tensor and computes the average\n",
    "        batch_accs = [x['val_acc'] for x in outputs]              # extracts all the validation accuracies\n",
    "        epoch_acc = torch.stack(batch_accs).mean()                # combine accuracies then av\n",
    "        return {'val_loss': epoch_loss.item(), 'val_acc': epoch_acc.item()}\n",
    "    \n",
    "    def epoch_end(self, epoch, result):\n",
    "        print(\"Epoch [{}], val_loss: {:.4f}, val_acc: {:.4f}%\".format(epoch+1, result['val_loss'], result['val_acc']*100))\n"
   ]
  },
  {
   "cell_type": "markdown",
   "id": "082c43ad",
   "metadata": {},
   "source": [
    "Defining Model and Loading the Weights and Parameters of the model which we already trained (if not then run the training cell)"
   ]
  },
  {
   "cell_type": "code",
   "execution_count": null,
   "id": "7d52e1ca",
   "metadata": {},
   "outputs": [
    {
     "data": {
      "text/plain": [
       "MNIST(\n",
       "  (Sequential): Sequential(\n",
       "    (0): Linear(in_features=784, out_features=128, bias=True)\n",
       "    (1): ReLU()\n",
       "    (2): Linear(in_features=128, out_features=16, bias=True)\n",
       "    (3): ReLU()\n",
       "    (4): Linear(in_features=16, out_features=10, bias=True)\n",
       "  )\n",
       ")"
      ]
     },
     "execution_count": 124,
     "metadata": {},
     "output_type": "execute_result"
    }
   ],
   "source": [
    "model = MNIST(input_size, hidden_size1, hidden_size2, num_classes)     # create model\n",
    "to_device(model, device)                                               # move model to device\n",
    "#model.load_state_dict(torch.load('mnist_weights.pth'))   # load the pretrained weights if .pth is available else leave commented and train the model"
   ]
  },
  {
   "cell_type": "markdown",
   "id": "f69112db",
   "metadata": {},
   "source": [
    "### Defining the evaluate and fit func"
   ]
  },
  {
   "cell_type": "code",
   "execution_count": 125,
   "id": "80f13442",
   "metadata": {},
   "outputs": [],
   "source": [
    "def evaluate(model, val_loader):\n",
    "    #Evaluates model on validation set and returns loss and accuracy\n",
    "    outputs = [model.validation_step(batch) for batch in val_loader]     \n",
    "    return model.validation_epoch_end(outputs)\n",
    "\n",
    "\n",
    "\n",
    "def fit(epochs, lr, model, train_loader, val_loader, opt_fn = torch.optim.SGD):\n",
    "    #Trains model using gradient descent\n",
    "    optimizer = opt_fn(model.parameters(), lr)   # model.parameter contains all the weights and biases of the model and is passed to optimizer\n",
    "    history = []\n",
    "\n",
    "    for epoch in range(epochs):\n",
    "        #train\n",
    "        for batch in train_loader:\n",
    "            loss = model.training_step(batch)\n",
    "            loss.backward()\n",
    "            optimizer.step()                     # update weights\n",
    "            optimizer.zero_grad()\n",
    "\n",
    "        #validate\n",
    "        result = evaluate(model, val_loader)\n",
    "        model.epoch_end(epoch, result)\n",
    "        history.append(result)\n",
    "    return history"
   ]
  },
  {
   "cell_type": "markdown",
   "id": "04d3bdeb",
   "metadata": {},
   "source": [
    "### Training"
   ]
  },
  {
   "cell_type": "code",
   "execution_count": 126,
   "id": "d5edf6fb",
   "metadata": {},
   "outputs": [
    {
     "name": "stdout",
     "output_type": "stream",
     "text": [
      "Initial result: loss = 2.3120, acc = 11.2695%\n",
      "Epoch [1], val_loss: 0.3483, val_acc: 89.3750%\n",
      "Epoch [2], val_loss: 0.2550, val_acc: 92.6270%\n",
      "Epoch [3], val_loss: 0.2454, val_acc: 92.9102%\n",
      "Epoch [4], val_loss: 0.1764, val_acc: 95.1758%\n",
      "Epoch [5], val_loss: 0.1685, val_acc: 95.1758%\n",
      "Epoch [6], val_loss: 0.1577, val_acc: 95.6738%\n",
      "Epoch [7], val_loss: 0.1327, val_acc: 96.1328%\n",
      "Epoch [8], val_loss: 0.1212, val_acc: 96.4844%\n",
      "Epoch [9], val_loss: 0.1285, val_acc: 96.1133%\n",
      "Epoch [10], val_loss: 0.1079, val_acc: 96.9727%\n",
      "[{'val_loss': 0.34826353192329407, 'val_acc': 0.893750011920929}, {'val_loss': 0.2550021708011627, 'val_acc': 0.92626953125}, {'val_loss': 0.24542582035064697, 'val_acc': 0.9291015863418579}, {'val_loss': 0.1763567328453064, 'val_acc': 0.9517577886581421}, {'val_loss': 0.16853861510753632, 'val_acc': 0.9517577886581421}, {'val_loss': 0.1576763391494751, 'val_acc': 0.956738293170929}, {'val_loss': 0.1326693445444107, 'val_acc': 0.9613281488418579}, {'val_loss': 0.12115774303674698, 'val_acc': 0.96484375}, {'val_loss': 0.12849317491054535, 'val_acc': 0.961132824420929}, {'val_loss': 0.107865110039711, 'val_acc': 0.9697265625}]\n"
     ]
    }
   ],
   "source": [
    "result0 = evaluate(model, val_loader)                     # gives initial loss and acc\n",
    "print(\"Initial result: loss = {:.4f}, acc = {:.4f}%\".format(result0['val_loss'], result0['val_acc']*100))\n",
    "\n",
    "history = fit(10, 0.1, model, train_loader, val_loader)    # trains the model and returns history of loss and acc through epochs\n",
    "print(history)"
   ]
  },
  {
   "cell_type": "markdown",
   "id": "c1b4e545",
   "metadata": {},
   "source": [
    "### Testing"
   ]
  },
  {
   "cell_type": "code",
   "execution_count": 127,
   "id": "b21d7daf",
   "metadata": {},
   "outputs": [
    {
     "name": "stdout",
     "output_type": "stream",
     "text": [
      "Predicted: 2  Actual: 2\n"
     ]
    },
    {
     "data": {
      "image/png": "[encoded data removed]",
      "text/plain": [
       "<Figure size 640x480 with 1 Axes>"
      ]
     },
     "metadata": {},
     "output_type": "display_data"
    }
   ],
   "source": [
    "def predict_image(img, model):\n",
    "    xb = to_device(img.unsqueeze(0), device)     # img tensor get conv to a batch (basically adds an extra dimension)\n",
    "    yb = model(xb)\n",
    "    _, preds = torch.max(yb, dim=1)\n",
    "    return preds[0].item()\n",
    "\n",
    "# for a random image\n",
    "img, label = test_dataset[82]\n",
    "plt.imshow(img[0], cmap='gray')\n",
    "print('Predicted:', predict_image(img, model),end='  ')\n",
    "print('Actual:', label)"
   ]
  },
  {
   "cell_type": "markdown",
   "id": "38e89519",
   "metadata": {},
   "source": [
    "### Testing over entire test dataset"
   ]
  },
  {
   "cell_type": "code",
   "execution_count": 128,
   "id": "8ec11b63",
   "metadata": {},
   "outputs": [
    {
     "name": "stdout",
     "output_type": "stream",
     "text": [
      "Testing loss = 0.0904, Testing Accuracy = 97.3047%\n"
     ]
    }
   ],
   "source": [
    "test_loader = DeviceDataLoader(DataLoader(test_dataset, batch_size=batch_size*2, num_workers=4, pin_memory=True), device)\n",
    "result = evaluate(model, test_loader)\n",
    "print(\"Testing loss = {:.4f}, Testing Accuracy = {:.4f}%\".format(result['val_loss'], result['val_acc']*100))"
   ]
  },
  {
   "cell_type": "markdown",
   "id": "b5684587",
   "metadata": {},
   "source": [
    "### Save and Upload"
   ]
  },
  {
   "cell_type": "code",
   "execution_count": 129,
   "id": "e9f1e49c",
   "metadata": {},
   "outputs": [],
   "source": [
    "saved_weights_fname = 'mnist_weights.pth'\n",
    "torch.save(model.state_dict(), saved_weights_fname)    # state_dict() returns an ordered dict of all the weights and biases of the model"
   ]
  }
 ],
 "metadata": {
  "kernelspec": {
   "display_name": "Python 3",
   "language": "python",
   "name": "python3"
  },
  "language_info": {
   "codemirror_mode": {
    "name": "ipython",
    "version": 3
   },
   "file_extension": ".py",
   "mimetype": "text/x-python",
   "name": "python",
   "nbconvert_exporter": "python",
   "pygments_lexer": "ipython3",
   "version": "3.13.3"
  }
 },
 "nbformat": 4,
 "nbformat_minor": 5
}
